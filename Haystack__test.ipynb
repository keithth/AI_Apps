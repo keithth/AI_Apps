{
  "nbformat": 4,
  "nbformat_minor": 0,
  "metadata": {
    "colab": {
      "provenance": [],
      "mount_file_id": "1g2QXHwovIhtF1EvuyW403fmlGLSIaDB5",
      "authorship_tag": "ABX9TyNP4306IVCCd43fd/CoyOtn",
      "include_colab_link": true
    },
    "kernelspec": {
      "name": "python3",
      "display_name": "Python 3"
    },
    "language_info": {
      "name": "python"
    }
  },
  "cells": [
    {
      "cell_type": "markdown",
      "metadata": {
        "id": "view-in-github",
        "colab_type": "text"
      },
      "source": [
        "<a href=\"https://colab.research.google.com/github/keithth/AI_Apps/blob/main/Haystack__test.ipynb\" target=\"_parent\"><img src=\"https://colab.research.google.com/assets/colab-badge.svg\" alt=\"Open In Colab\"/></a>"
      ]
    },
    {
      "cell_type": "markdown",
      "source": [
        "# top"
      ],
      "metadata": {
        "id": "eDhWBdIfhdDi"
      }
    },
    {
      "cell_type": "code",
      "source": [
        "pip install -qU haystack-ai pdfminer.six"
      ],
      "metadata": {
        "id": "oetCE5-PhaK9"
      },
      "execution_count": null,
      "outputs": []
    },
    {
      "cell_type": "code",
      "source": [
        "from google.colab import drive\n",
        "drive.mount('/content/drive')\n",
        "\n",
        "# from google.colab import files\n",
        "# uploaded = files.upload()\n",
        "\n"
      ],
      "metadata": {
        "colab": {
          "base_uri": "https://localhost:8080/"
        },
        "id": "kewzMehqzPlx",
        "outputId": "fd2338cf-ab9d-4328-c3bd-23c9173e5b71"
      },
      "execution_count": null,
      "outputs": [
        {
          "output_type": "stream",
          "name": "stdout",
          "text": [
            "Drive already mounted at /content/drive; to attempt to forcibly remount, call drive.mount(\"/content/drive\", force_remount=True).\n"
          ]
        }
      ]
    },
    {
      "cell_type": "code",
      "source": [
        "# List of PDF file paths\n",
        "file_names = [\n",
        "    \"/content/drive/MyDrive/A-A-ML/haystack/SEPMSpecialPublication2012Sylvester.pdf\"\n",
        "    ]\n"
      ],
      "metadata": {
        "id": "8pZ-lGY9LAjF"
      },
      "execution_count": null,
      "outputs": []
    },
    {
      "cell_type": "code",
      "execution_count": null,
      "metadata": {
        "colab": {
          "base_uri": "https://localhost:8080/"
        },
        "id": "lNwz1LuKg_X6",
        "outputId": "4a4b3ff1-61c9-4c69-c579-58aef6abcd32"
      },
      "outputs": [
        {
          "output_type": "execute_result",
          "data": {
            "text/plain": [
              "<haystack.core.pipeline.pipeline.Pipeline object at 0x783a85b58b10>\n",
              "🚅 Components\n",
              "  - converter: PDFMinerToDocument\n",
              "  - cleaner: DocumentCleaner\n",
              "  - splitter: DocumentSplitter\n",
              "  - writer: DocumentWriter\n",
              "🛤️ Connections\n",
              "  - converter.documents -> cleaner.documents (List[Document])\n",
              "  - cleaner.documents -> splitter.documents (List[Document])\n",
              "  - splitter.documents -> writer.documents (List[Document])"
            ]
          },
          "metadata": {},
          "execution_count": 4
        }
      ],
      "source": [
        "from haystack import Pipeline\n",
        "from haystack.document_stores.in_memory import InMemoryDocumentStore\n",
        "from haystack.components.converters import PDFMinerToDocument\n",
        "from haystack.components.preprocessors import DocumentCleaner\n",
        "from haystack.components.preprocessors import DocumentSplitter\n",
        "from haystack.components.writers import DocumentWriter\n",
        "\n",
        "document_store = InMemoryDocumentStore()\n",
        "\n",
        "pipeline = Pipeline()\n",
        "pipeline.add_component(\"converter\", PDFMinerToDocument())\n",
        "pipeline.add_component(\"cleaner\", DocumentCleaner())\n",
        "pipeline.add_component(\"splitter\", DocumentSplitter(split_by=\"sentence\", split_length=5))\n",
        "pipeline.add_component(\"writer\", DocumentWriter(document_store=document_store))\n",
        "pipeline.connect(\"converter\", \"cleaner\")\n",
        "pipeline.connect(\"cleaner\", \"splitter\")\n",
        "pipeline.connect(\"splitter\", \"writer\")\n"
      ]
    },
    {
      "cell_type": "code",
      "source": [
        "\n",
        "# Running the pipeline with the list of file paths\n",
        "pipeline.run({\"converter\": {\"sources\": file_names}})\n"
      ],
      "metadata": {
        "colab": {
          "base_uri": "https://localhost:8080/"
        },
        "id": "sM-Zopd4L4tz",
        "outputId": "62f5824a-dd6c-4fe4-cde3-b5316ea10da2"
      },
      "execution_count": null,
      "outputs": [
        {
          "output_type": "stream",
          "name": "stderr",
          "text": [
            "WARNING:haystack.components.preprocessors.sentence_tokenizer:No abbreviations file found for en. Using default abbreviations.\n"
          ]
        },
        {
          "output_type": "execute_result",
          "data": {
            "text/plain": [
              "{'writer': {'documents_written': 164}}"
            ]
          },
          "metadata": {},
          "execution_count": 5
        }
      ]
    }
  ]
}