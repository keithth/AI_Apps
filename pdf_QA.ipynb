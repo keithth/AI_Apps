{
  "nbformat": 4,
  "nbformat_minor": 0,
  "metadata": {
    "colab": {
      "provenance": [],
      "mount_file_id": "https://github.com/keithth/AI_Apps/blob/main/pdf_QA.ipynb",
      "authorship_tag": "ABX9TyMcQrPHH5mO4W2DKkR0zzXE",
      "include_colab_link": true
    },
    "kernelspec": {
      "name": "python3",
      "display_name": "Python 3"
    },
    "language_info": {
      "name": "python"
    }
  },
  "cells": [
    {
      "cell_type": "markdown",
      "metadata": {
        "id": "view-in-github",
        "colab_type": "text"
      },
      "source": [
        "<a href=\"https://colab.research.google.com/github/keithth/AI_Apps/blob/main/pdf_QA.ipynb\" target=\"_parent\"><img src=\"https://colab.research.google.com/assets/colab-badge.svg\" alt=\"Open In Colab\"/></a>"
      ]
    },
    {
      "cell_type": "markdown",
      "source": [
        "## Key & logs"
      ],
      "metadata": {
        "id": "Gtv7PtzYtO7R"
      }
    },
    {
      "cell_type": "code",
      "source": [
        "from google.colab import userdata\n",
        "openai_api_key = userdata.get('OPENAI_API_KEY')\n",
        "Unstructured_API_key = userdata.get('Unstructured_API_key')"
      ],
      "metadata": {
        "id": "LA6uuYVStiNb"
      },
      "execution_count": 1,
      "outputs": []
    },
    {
      "cell_type": "code",
      "source": [
        "\n",
        "import logging\n",
        "\n",
        "logging.basicConfig(format=\"%(levelname)s - %(name)s -  %(message)s\", level=logging.WARNING)\n",
        "logging.getLogger(\"haystack\").setLevel(logging.INFO)"
      ],
      "metadata": {
        "id": "_nLpBnLGEt8S"
      },
      "execution_count": 2,
      "outputs": []
    },
    {
      "cell_type": "markdown",
      "source": [
        "## Cell 1: Install required packages"
      ],
      "metadata": {
        "id": "G438mI95KATB"
      }
    },
    {
      "source": [
        "!pip uninstall haystack-ai -y -q\n",
        "# %%bash\n",
        "# Uninstall any old Haystack packages to ensure a clean environment\n",
        "!pip uninstall -y farm-haystack haystack\n"
      ],
      "cell_type": "code",
      "metadata": {
        "id": "lnIjY81SQDCR",
        "outputId": "837c2ac4-2301-4cc2-f929-b0cfd047d5c4",
        "colab": {
          "base_uri": "https://localhost:8080/"
        }
      },
      "execution_count": 19,
      "outputs": [
        {
          "output_type": "stream",
          "name": "stdout",
          "text": [
            "\u001b[33mWARNING: Skipping farm-haystack as it is not installed.\u001b[0m\u001b[33m\n",
            "\u001b[0m\u001b[33mWARNING: Skipping haystack as it is not installed.\u001b[0m\u001b[33m\n",
            "\u001b[0m"
          ]
        }
      ]
    },
    {
      "cell_type": "code",
      "source": [
        "# %%bash\n",
        "# Upgrade pip and install Haystack AI version 2.9.0 along with pdfminer.six and sentence-transformers.\n",
        "!pip install -qU --upgrade pip\n",
        "!pip install -qU haystack-ai==2.9.0 pdfminer.six sentence-transformers\n"
      ],
      "metadata": {
        "collapsed": true,
        "id": "6-j-zWX6iQB-"
      },
      "execution_count": 21,
      "outputs": []
    },
    {
      "source": [
        "# !pip install haystack-integrations"
      ],
      "cell_type": "code",
      "metadata": {
        "collapsed": true,
        "id": "Jtwb5i2FMp7x",
        "outputId": "e41f520d-2105-4d8e-eb08-02791ee3ca1e",
        "colab": {
          "base_uri": "https://localhost:8080/"
        }
      },
      "execution_count": 11,
      "outputs": [
        {
          "output_type": "stream",
          "name": "stdout",
          "text": [
            "\u001b[31mERROR: Could not find a version that satisfies the requirement haystack-integrations (from versions: none)\u001b[0m\u001b[31m\n",
            "\u001b[0m\u001b[31mERROR: No matching distribution found for haystack-integrations\u001b[0m\u001b[31m\n",
            "\u001b[0m"
          ]
        }
      ]
    },
    {
      "source": [
        "!pip show haystack-ai | grep Version | cut -d: -f2"
      ],
      "cell_type": "code",
      "metadata": {
        "id": "E12oLXuML2_U",
        "outputId": "9f3a6720-a21c-4be7-fef6-7206055b3204",
        "colab": {
          "base_uri": "https://localhost:8080/"
        }
      },
      "execution_count": 22,
      "outputs": [
        {
          "output_type": "stream",
          "name": "stdout",
          "text": [
            " 2.9.0\n"
          ]
        }
      ]
    },
    {
      "cell_type": "markdown",
      "source": [
        "# Cell 2: Import libraries and set up components"
      ],
      "metadata": {
        "id": "WLuFY9GrSBZY"
      }
    },
    {
      "cell_type": "code",
      "source": [
        "# Import necessary modules using the new 2.x namespaces.\n",
        "from haystack.components.converters import PyPDFToDocument\n",
        "from haystack.components.retriever import EmbeddingRetriever\n",
        "from haystack.components.reader import FARMReader\n",
        "from haystack.document_stores import InMemoryDocumentStore\n",
        "from haystack.pipelines import ExtractiveQAPipeline\n",
        "import textwrap\n"
      ],
      "metadata": {
        "id": "uXAPF_WboYy3",
        "outputId": "875a5d00-c170-4fbe-d4f9-a83f5633fca8",
        "colab": {
          "base_uri": "https://localhost:8080/",
          "height": 399
        }
      },
      "execution_count": 25,
      "outputs": [
        {
          "output_type": "error",
          "ename": "ModuleNotFoundError",
          "evalue": "No module named 'haystack.components.retriever'",
          "traceback": [
            "\u001b[0;31m---------------------------------------------------------------------------\u001b[0m",
            "\u001b[0;31mModuleNotFoundError\u001b[0m                       Traceback (most recent call last)",
            "\u001b[0;32m<ipython-input-25-cc1b48d5783e>\u001b[0m in \u001b[0;36m<cell line: 0>\u001b[0;34m()\u001b[0m\n\u001b[1;32m      1\u001b[0m \u001b[0;31m# Import necessary modules using the new 2.x namespaces.\u001b[0m\u001b[0;34m\u001b[0m\u001b[0;34m\u001b[0m\u001b[0m\n\u001b[1;32m      2\u001b[0m \u001b[0;32mfrom\u001b[0m \u001b[0mhaystack\u001b[0m\u001b[0;34m.\u001b[0m\u001b[0mcomponents\u001b[0m\u001b[0;34m.\u001b[0m\u001b[0mconverters\u001b[0m \u001b[0;32mimport\u001b[0m \u001b[0mPyPDFToDocument\u001b[0m\u001b[0;34m\u001b[0m\u001b[0;34m\u001b[0m\u001b[0m\n\u001b[0;32m----> 3\u001b[0;31m \u001b[0;32mfrom\u001b[0m \u001b[0mhaystack\u001b[0m\u001b[0;34m.\u001b[0m\u001b[0mcomponents\u001b[0m\u001b[0;34m.\u001b[0m\u001b[0mretriever\u001b[0m \u001b[0;32mimport\u001b[0m \u001b[0mEmbeddingRetriever\u001b[0m\u001b[0;34m\u001b[0m\u001b[0;34m\u001b[0m\u001b[0m\n\u001b[0m\u001b[1;32m      4\u001b[0m \u001b[0;32mfrom\u001b[0m \u001b[0mhaystack\u001b[0m\u001b[0;34m.\u001b[0m\u001b[0mcomponents\u001b[0m\u001b[0;34m.\u001b[0m\u001b[0mreader\u001b[0m \u001b[0;32mimport\u001b[0m \u001b[0mFARMReader\u001b[0m\u001b[0;34m\u001b[0m\u001b[0;34m\u001b[0m\u001b[0m\n\u001b[1;32m      5\u001b[0m \u001b[0;32mfrom\u001b[0m \u001b[0mhaystack\u001b[0m\u001b[0;34m.\u001b[0m\u001b[0mdocument_stores\u001b[0m \u001b[0;32mimport\u001b[0m \u001b[0mInMemoryDocumentStore\u001b[0m\u001b[0;34m\u001b[0m\u001b[0;34m\u001b[0m\u001b[0m\n",
            "\u001b[0;31mModuleNotFoundError\u001b[0m: No module named 'haystack.components.retriever'",
            "",
            "\u001b[0;31m---------------------------------------------------------------------------\u001b[0;32m\nNOTE: If your import is failing due to a missing package, you can\nmanually install dependencies using either !pip or !apt.\n\nTo view examples of installing some common dependencies, click the\n\"Open Examples\" button below.\n\u001b[0;31m---------------------------------------------------------------------------\u001b[0m\n"
          ],
          "errorDetails": {
            "actions": [
              {
                "action": "open_url",
                "actionText": "Open Examples",
                "url": "/notebooks/snippets/importing_libraries.ipynb"
              }
            ]
          }
        }
      ]
    },
    {
      "cell_type": "code",
      "source": [
        "import os\n",
        "import textwrap\n",
        "from haystack.document_stores.in_memory import InMemoryDocumentStore\n",
        "from haystack_integrations.components.converters.unstructured import UnstructuredFileConverter\n",
        "\n",
        "# from haystack.components.converters import UnstructuredFileConverter\n",
        "from haystack.components.preprocessors import DocumentSplitter\n",
        "from haystack import Pipeline, Document\n",
        "\n",
        "# For the QA pipeline:\n",
        "from haystack.components.retrievers.in_memory import InMemoryBM25Retriever\n",
        "from haystack.components.readers import ExtractiveReader\n",
        "\n",
        "# Path to your PDF file (upload \"paper.pdf\" to Colab)\n",
        "pdf_file = \"/content/drive/MyDrive/A-A-ML/haystack/SEPMSpecialPublication2012Sylvester.pdf\"\n"
      ],
      "metadata": {
        "id": "WiaI54EZSIsc",
        "outputId": "70bbd2fc-a138-4b9c-9532-46a93318da8c",
        "colab": {
          "base_uri": "https://localhost:8080/",
          "height": 399
        }
      },
      "execution_count": 18,
      "outputs": [
        {
          "output_type": "error",
          "ename": "ModuleNotFoundError",
          "evalue": "No module named 'haystack_integrations'",
          "traceback": [
            "\u001b[0;31m---------------------------------------------------------------------------\u001b[0m",
            "\u001b[0;31mModuleNotFoundError\u001b[0m                       Traceback (most recent call last)",
            "\u001b[0;32m<ipython-input-18-88d11e17c632>\u001b[0m in \u001b[0;36m<cell line: 0>\u001b[0;34m()\u001b[0m\n\u001b[1;32m      2\u001b[0m \u001b[0;32mimport\u001b[0m \u001b[0mtextwrap\u001b[0m\u001b[0;34m\u001b[0m\u001b[0;34m\u001b[0m\u001b[0m\n\u001b[1;32m      3\u001b[0m \u001b[0;32mfrom\u001b[0m \u001b[0mhaystack\u001b[0m\u001b[0;34m.\u001b[0m\u001b[0mdocument_stores\u001b[0m\u001b[0;34m.\u001b[0m\u001b[0min_memory\u001b[0m \u001b[0;32mimport\u001b[0m \u001b[0mInMemoryDocumentStore\u001b[0m\u001b[0;34m\u001b[0m\u001b[0;34m\u001b[0m\u001b[0m\n\u001b[0;32m----> 4\u001b[0;31m \u001b[0;32mfrom\u001b[0m \u001b[0mhaystack_integrations\u001b[0m\u001b[0;34m.\u001b[0m\u001b[0mcomponents\u001b[0m\u001b[0;34m.\u001b[0m\u001b[0mconverters\u001b[0m\u001b[0;34m.\u001b[0m\u001b[0munstructured\u001b[0m \u001b[0;32mimport\u001b[0m \u001b[0mUnstructuredFileConverter\u001b[0m\u001b[0;34m\u001b[0m\u001b[0;34m\u001b[0m\u001b[0m\n\u001b[0m\u001b[1;32m      5\u001b[0m \u001b[0;34m\u001b[0m\u001b[0m\n\u001b[1;32m      6\u001b[0m \u001b[0;31m# from haystack.components.converters import UnstructuredFileConverter\u001b[0m\u001b[0;34m\u001b[0m\u001b[0;34m\u001b[0m\u001b[0m\n",
            "\u001b[0;31mModuleNotFoundError\u001b[0m: No module named 'haystack_integrations'",
            "",
            "\u001b[0;31m---------------------------------------------------------------------------\u001b[0;32m\nNOTE: If your import is failing due to a missing package, you can\nmanually install dependencies using either !pip or !apt.\n\nTo view examples of installing some common dependencies, click the\n\"Open Examples\" button below.\n\u001b[0;31m---------------------------------------------------------------------------\u001b[0m\n"
          ],
          "errorDetails": {
            "actions": [
              {
                "action": "open_url",
                "actionText": "Open Examples",
                "url": "/notebooks/snippets/importing_libraries.ipynb"
              }
            ]
          }
        }
      ]
    },
    {
      "cell_type": "markdown",
      "source": [
        "# b1"
      ],
      "metadata": {
        "id": "hU5SdpUAwMkQ"
      }
    },
    {
      "cell_type": "markdown",
      "source": [
        "# b3"
      ],
      "metadata": {
        "id": "-IjjY06rzmY8"
      }
    },
    {
      "cell_type": "markdown",
      "source": [
        "# b2"
      ],
      "metadata": {
        "id": "z1CWtKRPyKkv"
      }
    }
  ]
}