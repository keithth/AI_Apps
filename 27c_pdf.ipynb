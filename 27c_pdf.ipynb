{
  "nbformat": 4,
  "nbformat_minor": 0,
  "metadata": {
    "colab": {
      "provenance": [],
      "toc_visible": true,
      "gpuType": "T4",
      "name": "27c_pdf.ipynb",
      "mount_file_id": "https://github.com/keithth/AI_Apps/blob/main/27b_PDF.ipynb",
      "authorship_tag": "ABX9TyNUDPWLKmT+XPI7lE8JqMP+",
      "include_colab_link": true
    },
    "kernelspec": {
      "name": "python3",
      "display_name": "Python 3"
    },
    "language_info": {
      "name": "python"
    },
    "accelerator": "GPU"
  },
  "cells": [
    {
      "cell_type": "markdown",
      "metadata": {
        "id": "view-in-github",
        "colab_type": "text"
      },
      "source": [
        "<a href=\"https://colab.research.google.com/github/keithth/AI_Apps/blob/main/27c_pdf.ipynb\" target=\"_parent\"><img src=\"https://colab.research.google.com/assets/colab-badge.svg\" alt=\"Open In Colab\"/></a>"
      ]
    },
    {
      "cell_type": "code",
      "source": [],
      "metadata": {
        "id": "NNPBDBTCw2pD"
      },
      "execution_count": null,
      "outputs": []
    },
    {
      "cell_type": "markdown",
      "source": [
        "## Key & logs"
      ],
      "metadata": {
        "id": "Gtv7PtzYtO7R"
      }
    },
    {
      "cell_type": "code",
      "source": [
        "from google.colab import userdata\n",
        "openai_api_key = userdata.get('OPENAI_API_KEY')"
      ],
      "metadata": {
        "id": "LA6uuYVStiNb"
      },
      "execution_count": 1,
      "outputs": []
    },
    {
      "cell_type": "code",
      "source": [
        "\n",
        "import logging\n",
        "\n",
        "logging.basicConfig(format=\"%(levelname)s - %(name)s -  %(message)s\", level=logging.WARNING)\n",
        "logging.getLogger(\"haystack\").setLevel(logging.INFO)"
      ],
      "metadata": {
        "id": "_nLpBnLGEt8S"
      },
      "execution_count": 2,
      "outputs": []
    },
    {
      "cell_type": "markdown",
      "source": [
        "## Installation"
      ],
      "metadata": {
        "id": "G438mI95KATB"
      }
    },
    {
      "cell_type": "code",
      "source": [
        "# Install the required packages (run this in a Colab cell)\n",
        "!pip install -qU haystack-ai\n",
        "!pip install -qU unstructured  # needed by the UnstructuredFileConverter\n",
        "!pip install -qU pdfminer.six  # for PDF parsing if not already installed\n"
      ],
      "metadata": {
        "id": "3AL_JVKTwVn_",
        "collapsed": true
      },
      "execution_count": 5,
      "outputs": []
    },
    {
      "source": [
        "!pip show haystack-ai unstructured pdfminer.six | grep Version | cut -d: -f2"
      ],
      "cell_type": "code",
      "metadata": {
        "id": "E12oLXuML2_U",
        "colab": {
          "base_uri": "https://localhost:8080/"
        },
        "outputId": "7a1bbc65-7e5d-4d47-9be5-5535c514d3b0"
      },
      "execution_count": 7,
      "outputs": [
        {
          "output_type": "stream",
          "name": "stdout",
          "text": [
            " 2.9.0\n",
            " 0.16.20\n",
            " 20240706\n"
          ]
        }
      ]
    },
    {
      "cell_type": "markdown",
      "source": [
        "# b1"
      ],
      "metadata": {
        "id": "hU5SdpUAwMkQ"
      }
    },
    {
      "cell_type": "code",
      "source": [
        "\n",
        "# Import necessary classes from Haystack 2.x\n",
        "from haystack import Pipeline, Document\n",
        "from haystack.document_stores.in_memory import InMemoryDocumentStore\n",
        "from haystack.components.converters import UnstructuredFileConverter\n",
        "from haystack.components.preprocessors import DocumentSplitter\n",
        "from haystack.components.writers import DocumentWriter\n"
      ],
      "metadata": {
        "id": "xoiCxdH-xySK",
        "outputId": "7c538206-b1f5-476c-c1b6-f6b7d10d89a3",
        "colab": {
          "base_uri": "https://localhost:8080/",
          "height": 418
        }
      },
      "execution_count": 8,
      "outputs": [
        {
          "output_type": "error",
          "ename": "ImportError",
          "evalue": "cannot import name 'UnstructuredFileConverter' from 'haystack.components.converters' (/usr/local/lib/python3.11/dist-packages/haystack/components/converters/__init__.py)",
          "traceback": [
            "\u001b[0;31m---------------------------------------------------------------------------\u001b[0m",
            "\u001b[0;31mImportError\u001b[0m                               Traceback (most recent call last)",
            "\u001b[0;32m<ipython-input-8-7193622c69c6>\u001b[0m in \u001b[0;36m<cell line: 0>\u001b[0;34m()\u001b[0m\n\u001b[1;32m      2\u001b[0m \u001b[0;32mfrom\u001b[0m \u001b[0mhaystack\u001b[0m \u001b[0;32mimport\u001b[0m \u001b[0mPipeline\u001b[0m\u001b[0;34m,\u001b[0m \u001b[0mDocument\u001b[0m\u001b[0;34m\u001b[0m\u001b[0;34m\u001b[0m\u001b[0m\n\u001b[1;32m      3\u001b[0m \u001b[0;32mfrom\u001b[0m \u001b[0mhaystack\u001b[0m\u001b[0;34m.\u001b[0m\u001b[0mdocument_stores\u001b[0m\u001b[0;34m.\u001b[0m\u001b[0min_memory\u001b[0m \u001b[0;32mimport\u001b[0m \u001b[0mInMemoryDocumentStore\u001b[0m\u001b[0;34m\u001b[0m\u001b[0;34m\u001b[0m\u001b[0m\n\u001b[0;32m----> 4\u001b[0;31m \u001b[0;32mfrom\u001b[0m \u001b[0mhaystack\u001b[0m\u001b[0;34m.\u001b[0m\u001b[0mcomponents\u001b[0m\u001b[0;34m.\u001b[0m\u001b[0mconverters\u001b[0m \u001b[0;32mimport\u001b[0m \u001b[0mUnstructuredFileConverter\u001b[0m\u001b[0;34m\u001b[0m\u001b[0;34m\u001b[0m\u001b[0m\n\u001b[0m\u001b[1;32m      5\u001b[0m \u001b[0;32mfrom\u001b[0m \u001b[0mhaystack\u001b[0m\u001b[0;34m.\u001b[0m\u001b[0mcomponents\u001b[0m\u001b[0;34m.\u001b[0m\u001b[0mpreprocessors\u001b[0m \u001b[0;32mimport\u001b[0m \u001b[0mDocumentSplitter\u001b[0m\u001b[0;34m\u001b[0m\u001b[0;34m\u001b[0m\u001b[0m\n\u001b[1;32m      6\u001b[0m \u001b[0;32mfrom\u001b[0m \u001b[0mhaystack\u001b[0m\u001b[0;34m.\u001b[0m\u001b[0mcomponents\u001b[0m\u001b[0;34m.\u001b[0m\u001b[0mwriters\u001b[0m \u001b[0;32mimport\u001b[0m \u001b[0mDocumentWriter\u001b[0m\u001b[0;34m\u001b[0m\u001b[0;34m\u001b[0m\u001b[0m\n",
            "\u001b[0;31mImportError\u001b[0m: cannot import name 'UnstructuredFileConverter' from 'haystack.components.converters' (/usr/local/lib/python3.11/dist-packages/haystack/components/converters/__init__.py)",
            "",
            "\u001b[0;31m---------------------------------------------------------------------------\u001b[0;32m\nNOTE: If your import is failing due to a missing package, you can\nmanually install dependencies using either !pip or !apt.\n\nTo view examples of installing some common dependencies, click the\n\"Open Examples\" button below.\n\u001b[0;31m---------------------------------------------------------------------------\u001b[0m\n"
          ],
          "errorDetails": {
            "actions": [
              {
                "action": "open_url",
                "actionText": "Open Examples",
                "url": "/notebooks/snippets/importing_libraries.ipynb"
              }
            ]
          }
        }
      ]
    },
    {
      "cell_type": "markdown",
      "source": [
        "# b3"
      ],
      "metadata": {
        "id": "-IjjY06rzmY8"
      }
    },
    {
      "cell_type": "code",
      "source": [
        "\n",
        "# Initialize an in-memory document store\n",
        "document_store = InMemoryDocumentStore()\n",
        "\n",
        "# Create the PDF converter component.\n",
        "# UnstructuredFileConverter supports many file types including PDF.\n",
        "converter = UnstructuredFileConverter()\n",
        "\n",
        "# Create a document splitter.\n",
        "# Here we split the extracted text into passages of about 100 words with 20 words overlap.\n",
        "splitter = DocumentSplitter(split_by=\"passage\", split_length=100, split_overlap=20)\n",
        "\n",
        "# Create a writer component that writes (indexes) the processed documents into the document store.\n",
        "writer = DocumentWriter(document_store)\n",
        "\n",
        "# Build the pipeline.\n",
        "# In Haystack 2.x, components are added without an intrinsic order – you then connect the output\n",
        "# of one component to the input of the next.\n",
        "pipeline = Pipeline()\n",
        "pipeline.add_component(\"converter\", converter)\n",
        "pipeline.add_component(\"splitter\", splitter)\n",
        "pipeline.add_component(\"writer\", writer)\n",
        "\n",
        "# Connect the pipeline components:\n",
        "# - The converter produces a list of documents (accessible via \"converter.documents\")\n",
        "# - The splitter takes these documents and splits them into smaller passages\n",
        "# - The writer then writes the resulting documents to the document store.\n",
        "pipeline.connect(\"converter.documents\", \"splitter.documents\")\n",
        "pipeline.connect(\"splitter.documents\", \"writer\")\n",
        "\n",
        "# Specify the PDF file(s) to process.\n",
        "# (Make sure to upload the PDF file to the Colab runtime or provide a valid path.)\n",
        "file_paths = [\"sample.pdf\"]  # replace \"sample.pdf\" with your PDF file path\n",
        "\n",
        "# Run the pipeline by providing the file paths to the converter.\n",
        "result = pipeline.run({\"converter\": {\"file_paths\": file_paths}})\n",
        "\n",
        "# Print out the returned result.\n",
        "# The result will include the documents indexed into the document store.\n",
        "print(result)\n",
        "\n",
        "# (Optional) You can now query your document store—for example, to see the indexed documents:\n",
        "docs = document_store.filter_documents()\n",
        "print(\"\\nIndexed Documents:\")\n",
        "for d in docs:\n",
        "    print(d.content[:200] + \"...\")\n"
      ],
      "metadata": {
        "id": "XHodmfaTziUn"
      },
      "execution_count": null,
      "outputs": []
    },
    {
      "cell_type": "markdown",
      "source": [
        "# b2"
      ],
      "metadata": {
        "id": "z1CWtKRPyKkv"
      }
    }
  ]
}