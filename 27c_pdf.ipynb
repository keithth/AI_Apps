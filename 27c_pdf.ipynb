{
  "nbformat": 4,
  "nbformat_minor": 0,
  "metadata": {
    "colab": {
      "provenance": [],
      "toc_visible": true,
      "gpuType": "T4",
      "name": "27c_pdf.ipynb",
      "mount_file_id": "https://github.com/keithth/AI_Apps/blob/main/27b_PDF.ipynb",
      "authorship_tag": "ABX9TyPOYUIy5pogUOfd6vopvpX7",
      "include_colab_link": true
    },
    "kernelspec": {
      "name": "python3",
      "display_name": "Python 3"
    },
    "language_info": {
      "name": "python"
    },
    "accelerator": "GPU"
  },
  "cells": [
    {
      "cell_type": "markdown",
      "metadata": {
        "id": "view-in-github",
        "colab_type": "text"
      },
      "source": [
        "<a href=\"https://colab.research.google.com/github/keithth/AI_Apps/blob/main/27c_pdf.ipynb\" target=\"_parent\"><img src=\"https://colab.research.google.com/assets/colab-badge.svg\" alt=\"Open In Colab\"/></a>"
      ]
    },
    {
      "cell_type": "markdown",
      "source": [
        "## Key & logs"
      ],
      "metadata": {
        "id": "Gtv7PtzYtO7R"
      }
    },
    {
      "cell_type": "code",
      "source": [
        "from google.colab import userdata\n",
        "openai_api_key = userdata.get('OPENAI_API_KEY')"
      ],
      "metadata": {
        "id": "LA6uuYVStiNb"
      },
      "execution_count": null,
      "outputs": []
    },
    {
      "cell_type": "code",
      "source": [
        "\n",
        "import logging\n",
        "\n",
        "logging.basicConfig(format=\"%(levelname)s - %(name)s -  %(message)s\", level=logging.WARNING)\n",
        "logging.getLogger(\"haystack\").setLevel(logging.INFO)"
      ],
      "metadata": {
        "id": "_nLpBnLGEt8S"
      },
      "execution_count": null,
      "outputs": []
    },
    {
      "cell_type": "markdown",
      "source": [
        "## Installation"
      ],
      "metadata": {
        "id": "G438mI95KATB"
      }
    },
    {
      "cell_type": "code",
      "source": [
        "# Install the required packages (run this in a Colab cell)\n",
        "!pip install -qU haystack-ai\n",
        "!pip install -qU unstructured  # needed by the UnstructuredFileConverter\n",
        "!pip install -qU pdfminer.six  # for PDF parsing if not already installed\n"
      ],
      "metadata": {
        "id": "3AL_JVKTwVn_",
        "collapsed": true
      },
      "execution_count": null,
      "outputs": []
    },
    {
      "source": [
        "!pip show haystack-ai unstructured pdfminer.six | grep Version | cut -d: -f2"
      ],
      "cell_type": "code",
      "metadata": {
        "id": "E12oLXuML2_U"
      },
      "execution_count": null,
      "outputs": []
    },
    {
      "cell_type": "markdown",
      "source": [
        "# b1"
      ],
      "metadata": {
        "id": "hU5SdpUAwMkQ"
      }
    },
    {
      "cell_type": "code",
      "source": [
        "\n",
        "# Import necessary classes from Haystack 2.x\n",
        "from haystack import Pipeline, Document\n",
        "from haystack.document_stores.in_memory import InMemoryDocumentStore\n",
        "from haystack.components.converters import UnstructuredFileConverter\n",
        "from haystack.components.preprocessors import DocumentSplitter\n",
        "from haystack.components.writers import DocumentWriter\n"
      ],
      "metadata": {
        "id": "xoiCxdH-xySK"
      },
      "execution_count": null,
      "outputs": []
    },
    {
      "cell_type": "markdown",
      "source": [
        "# b3"
      ],
      "metadata": {
        "id": "-IjjY06rzmY8"
      }
    },
    {
      "cell_type": "code",
      "source": [
        "\n",
        "# Initialize an in-memory document store\n",
        "document_store = InMemoryDocumentStore()\n",
        "\n",
        "# Create the PDF converter component.\n",
        "# UnstructuredFileConverter supports many file types including PDF.\n",
        "converter = UnstructuredFileConverter()\n",
        "\n",
        "# Create a document splitter.\n",
        "# Here we split the extracted text into passages of about 100 words with 20 words overlap.\n",
        "splitter = DocumentSplitter(split_by=\"passage\", split_length=100, split_overlap=20)\n",
        "\n",
        "# Create a writer component that writes (indexes) the processed documents into the document store.\n",
        "writer = DocumentWriter(document_store)\n",
        "\n",
        "# Build the pipeline.\n",
        "# In Haystack 2.x, components are added without an intrinsic order – you then connect the output\n",
        "# of one component to the input of the next.\n",
        "pipeline = Pipeline()\n",
        "pipeline.add_component(\"converter\", converter)\n",
        "pipeline.add_component(\"splitter\", splitter)\n",
        "pipeline.add_component(\"writer\", writer)\n",
        "\n",
        "# Connect the pipeline components:\n",
        "# - The converter produces a list of documents (accessible via \"converter.documents\")\n",
        "# - The splitter takes these documents and splits them into smaller passages\n",
        "# - The writer then writes the resulting documents to the document store.\n",
        "pipeline.connect(\"converter.documents\", \"splitter.documents\")\n",
        "pipeline.connect(\"splitter.documents\", \"writer\")\n",
        "\n",
        "# Specify the PDF file(s) to process.\n",
        "# (Make sure to upload the PDF file to the Colab runtime or provide a valid path.)\n",
        "file_paths = [\"sample.pdf\"]  # replace \"sample.pdf\" with your PDF file path\n",
        "\n",
        "# Run the pipeline by providing the file paths to the converter.\n",
        "result = pipeline.run({\"converter\": {\"file_paths\": file_paths}})\n",
        "\n",
        "# Print out the returned result.\n",
        "# The result will include the documents indexed into the document store.\n",
        "print(result)\n",
        "\n",
        "# (Optional) You can now query your document store—for example, to see the indexed documents:\n",
        "docs = document_store.filter_documents()\n",
        "print(\"\\nIndexed Documents:\")\n",
        "for d in docs:\n",
        "    print(d.content[:200] + \"...\")\n"
      ],
      "metadata": {
        "id": "XHodmfaTziUn"
      },
      "execution_count": null,
      "outputs": []
    },
    {
      "cell_type": "markdown",
      "source": [
        "# b2"
      ],
      "metadata": {
        "id": "z1CWtKRPyKkv"
      }
    }
  ]
}